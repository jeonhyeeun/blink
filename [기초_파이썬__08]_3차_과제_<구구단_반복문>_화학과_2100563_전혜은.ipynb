{
  "nbformat": 4,
  "nbformat_minor": 0,
  "metadata": {
    "colab": {
      "name": "[기초 파이썬 _08] 3차 과제 <구구단 반복문>_화학과 2100563 전혜은",
      "provenance": [],
      "authorship_tag": "ABX9TyNtaIQWJB5Cts3EY1gX8IoG",
      "include_colab_link": true
    },
    "kernelspec": {
      "name": "python3",
      "display_name": "Python 3"
    },
    "language_info": {
      "name": "python"
    }
  },
  "cells": [
    {
      "cell_type": "markdown",
      "metadata": {
        "id": "view-in-github",
        "colab_type": "text"
      },
      "source": [
        "<a href=\"https://colab.research.google.com/github/jeonhyeeun/blink/blob/main/%5B%EA%B8%B0%EC%B4%88_%ED%8C%8C%EC%9D%B4%EC%8D%AC__08%5D_3%EC%B0%A8_%EA%B3%BC%EC%A0%9C_%3C%EA%B5%AC%EA%B5%AC%EB%8B%A8_%EB%B0%98%EB%B3%B5%EB%AC%B8%3E_%ED%99%94%ED%95%99%EA%B3%BC_2100563_%EC%A0%84%ED%98%9C%EC%9D%80.ipynb\" target=\"_parent\"><img src=\"https://colab.research.google.com/assets/colab-badge.svg\" alt=\"Open In Colab\"/></a>"
      ]
    },
    {
      "cell_type": "markdown",
      "metadata": {
        "id": "RyHTymAdHogZ"
      },
      "source": [
        "1) 구구단 18단 까지 반복문을 사용하여 구하시오."
      ]
    },
    {
      "cell_type": "code",
      "metadata": {
        "id": "uzaStR1tHn86"
      },
      "source": [
        "print(\"몇 단을 계산할까요?\")\n",
        "num = int(input())\n",
        "while num <=0 or num >18:\n",
        "  num = int(input(\"다시 입력해주세요.\"))\n",
        "for i in range(1, 10):\n",
        "    print(num, \"X\", i, \"=\", num * i)"
      ],
      "execution_count": null,
      "outputs": []
    }
  ]
}