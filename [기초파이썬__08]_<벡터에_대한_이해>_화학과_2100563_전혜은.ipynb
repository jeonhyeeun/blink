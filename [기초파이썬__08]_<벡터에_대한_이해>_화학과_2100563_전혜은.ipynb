{
  "nbformat": 4,
  "nbformat_minor": 0,
  "metadata": {
    "colab": {
      "name": "[기초파이썬 _08] <벡터에 대한 이해> 화학과 2100563 전혜은",
      "provenance": [],
      "authorship_tag": "ABX9TyN8zguINwCwWSV6YhVeA+3i",
      "include_colab_link": true
    },
    "kernelspec": {
      "name": "python3",
      "display_name": "Python 3"
    },
    "language_info": {
      "name": "python"
    }
  },
  "cells": [
    {
      "cell_type": "markdown",
      "metadata": {
        "id": "view-in-github",
        "colab_type": "text"
      },
      "source": [
        "<a href=\"https://colab.research.google.com/github/jeonhyeeun/blink/blob/main/%5B%EA%B8%B0%EC%B4%88%ED%8C%8C%EC%9D%B4%EC%8D%AC__08%5D_%3C%EB%B2%A1%ED%84%B0%EC%97%90_%EB%8C%80%ED%95%9C_%EC%9D%B4%ED%95%B4%3E_%ED%99%94%ED%95%99%EA%B3%BC_2100563_%EC%A0%84%ED%98%9C%EC%9D%80.ipynb\" target=\"_parent\"><img src=\"https://colab.research.google.com/assets/colab-badge.svg\" alt=\"Open In Colab\"/></a>"
      ]
    },
    {
      "cell_type": "markdown",
      "metadata": {
        "id": "H2wxJZz79bOT"
      },
      "source": [
        "▶ 벡터의 모든것 ◀\n",
        " ▷ 벡터란? : 크기 + (모든)방향"
      ]
    },
    {
      "cell_type": "markdown",
      "metadata": {
        "id": "WY2u4CO2A_NC"
      },
      "source": [
        "문제 1. 거북이가 'ㄷ'자형 트랙으로 2m씩 움직이는데 이동거리는 얼마인가요?"
      ]
    },
    {
      "cell_type": "markdown",
      "metadata": {
        "id": "m3VQwe-UFOQK"
      },
      "source": [
        "< 'ㄷ'자 형태의 트랙 >\n",
        "import turtle\n",
        "t = turtle.Turtle\n",
        "t.shape(\"turtle\")\n",
        "\n",
        "t.forward(200)       # 여기서 200은 2m로 임의로 정함.\n",
        "t.left(90)\n",
        "t.forward(200)\n",
        "t.left(90)\n",
        "t.forward(200)"
      ]
    },
    {
      "cell_type": "code",
      "metadata": {
        "colab": {
          "base_uri": "https://localhost:8080/"
        },
        "id": "wdXcKZNG9aLg",
        "outputId": "82ed1d85-2d8c-4130-dc90-ec112e4bc180"
      },
      "source": [
        "print(\"거북이의 이동거리는 얼마일까요?\")\n",
        "turtle = int(input())\n",
        "while turtle <6 or turtle >6:                         # 숫자 뒤에 단위 m(미터) 생략\n",
        "  turtle = int(input(\"다시 입력해주세요.\"))\n",
        "  if turtle ==6:\n",
        "    print(\"정답입니다.\")"
      ],
      "execution_count": 22,
      "outputs": [
        {
          "output_type": "stream",
          "name": "stdout",
          "text": [
            "거북이의 이동거리는 얼마일까요?\n",
            "4\n",
            "다시 입력해주세요.6\n",
            "정답입니다.\n"
          ]
        }
      ]
    }
  ]
}